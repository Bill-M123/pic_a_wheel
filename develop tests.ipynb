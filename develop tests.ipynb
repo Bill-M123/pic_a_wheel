{
 "cells": [
  {
   "cell_type": "code",
   "execution_count": 2,
   "metadata": {},
   "outputs": [],
   "source": [
    "#import matplotlib.pyplot as plt\n",
    "from matplotlib.figure import Figure \n",
    "import numpy as np\n",
    "import pandas as pd\n",
    "import seaborn as sns\n",
    "import datetime as dt\n",
    "import random\n",
    "import os\n",
    "import pickle\n",
    "\n",
    "from collections import Counter\n",
    "from itertools import combinations"
   ]
  },
  {
   "cell_type": "code",
   "execution_count": 2,
   "metadata": {},
   "outputs": [],
   "source": [
    "from poker_classes.cards import Cards\n",
    "from poker_classes.dealer import Dealer\n",
    "from poker_classes.game import Game\n",
    "from poker_classes.player import Player"
   ]
  },
  {
   "cell_type": "code",
   "execution_count": 3,
   "metadata": {},
   "outputs": [],
   "source": [
    "working_dir = os.getcwd()\n",
    "app_dir = working_dir + '/poker_classes/'\n",
    "player_dir = working_dir + '/existing_players/'"
   ]
  },
  {
   "cell_type": "code",
   "execution_count": null,
   "metadata": {},
   "outputs": [],
   "source": []
  },
  {
   "cell_type": "code",
   "execution_count": 4,
   "metadata": {},
   "outputs": [
    {
     "name": "stdout",
     "output_type": "stream",
     "text": [
      "Found JohnAlba\n",
      "Found Brian\n",
      "Found Clyde\n",
      "Found DeGroot\n",
      "Found Mr.Pink\n"
     ]
    }
   ],
   "source": [
    "def make_players():\n",
    "    alba = Player(player_dir, name='John Alba', nickname='JohnAlba')\n",
    "    brian = Player(player_dir, name='Brian Mercer', nickname='Brian')\n",
    "    clyde = Player(player_dir, name='Bob Vincent', nickname='Clyde')\n",
    "    degroot = Player(player_dir, name='Henry DeGroot', nickname='DeGroot')\n",
    "    ed = Player(player_dir, name='Ed Mulhern', nickname='Mr.Pink')\n",
    "    players=[alba,brian,clyde,degroot,ed]\n",
    "    return players\n",
    "\n",
    "players=make_players()"
   ]
  },
  {
   "cell_type": "code",
   "execution_count": 5,
   "metadata": {},
   "outputs": [
    {
     "name": "stdout",
     "output_type": "stream",
     "text": [
      "[(13, 'C'), (12, 'D'), (8, 'H'), (13, 'S'), (3, 'H'), (9, 'S'), (1, 'D'), (1, 'C'), (10, 'C'), (6, 'C'), (8, 'S'), (7, 'C'), (12, 'C'), (2, 'C'), (11, 'C'), (5, 'D'), (11, 'S'), (2, 'D'), (3, 'C'), (9, 'H'), (3, 'S'), (9, 'D'), (6, 'S'), (1, 'S'), (10, 'H'), (4, 'C'), (13, 'D'), (1, 'H'), (10, 'D'), (4, 'H'), (7, 'S'), (7, 'D'), (2, 'H'), (13, 'H'), (8, 'D'), (10, 'S'), (4, 'D'), (3, 'D'), (7, 'H'), (6, 'D'), (11, 'D'), (6, 'H'), (9, 'C'), (5, 'S'), (12, 'H'), (2, 'S'), (4, 'S'), (5, 'C'), (5, 'H'), (12, 'S'), (8, 'C'), (11, 'H')]\n"
     ]
    }
   ],
   "source": [
    "new_deck=[(rank, suit) for rank in range(1, 14) for suit in ['S', 'H', 'C', 'D']]\n",
    "\n",
    "aseed=27\n",
    "if aseed:\n",
    "    random.seed(aseed)\n",
    "\n",
    "random.shuffle(new_deck)\n",
    "print(new_deck)"
   ]
  },
  {
   "cell_type": "code",
   "execution_count": 6,
   "metadata": {},
   "outputs": [
    {
     "name": "stdout",
     "output_type": "stream",
     "text": [
      "[[], []]\n",
      "[[(4, 'C'), (13, 'D'), (1, 'H')], [(10, 'D'), (4, 'H'), (7, 'S')], [(7, 'D'), (2, 'H')]]\n"
     ]
    },
    {
     "data": {
      "text/plain": [
       "19"
      ]
     },
     "execution_count": 6,
     "metadata": {},
     "output_type": "execute_result"
    }
   ],
   "source": [
    "def deal_card(deck):\n",
    "        '''Return single card, and adjusted deck'''\n",
    "        card = deck.pop(0)\n",
    "        return card, deck\n",
    "    \n",
    "def shuffle_deck(deck,aseed=False):\n",
    "        '''Shuffles card in deck, returns decl'''\n",
    "        random.seed(dt.datetime.now().microsecond)\n",
    "        if aseed:\n",
    "            random.seed(aseed)\n",
    "        random.shuffle(deck)\n",
    "        return deck\n",
    "\n",
    "\n",
    "this_game=Game()\n",
    "this_game.set_pic_a_wheel()\n",
    "print(this_game.hands)\n",
    "\n",
    "aseed=27\n",
    "new_deck = [(rank, suit) for rank in range(1, 14) for suit in ['S', 'H', 'C', 'D']]\n",
    "shuffled = shuffle_deck(new_deck,aseed=aseed)\n",
    "\n",
    "# deal\n",
    "for p in players:\n",
    "    p.hands = this_game.hands\n",
    "\n",
    "for p in players:\n",
    "    card_count = 0\n",
    "    p.hands = [[] for x in this_game.hands_count]\n",
    "    for i, c in enumerate(this_game.hands_count):\n",
    "        for h in range(c):\n",
    "\n",
    "            if card_count < c:\n",
    "                card, shuffled = deal_card(shuffled)\n",
    "                p.hands[i].append(card)\n",
    "\n",
    "            else:\n",
    "                pass\n",
    "    card_count += 1\n",
    "\n",
    "    p.common_cards = []\n",
    "    for c in range(this_game.p_common):\n",
    "        card, shuffled = deal_card(shuffled)\n",
    "        p.common_cards.append(card)\n",
    "\n",
    "common_cards = [[] for x in range(len(this_game.common_cards))]\n",
    "for i, flip in enumerate(this_game.common_cards):\n",
    "    for f in range(flip):\n",
    "        card, shuffled = deal_card(shuffled)\n",
    "        common_cards[i].append(card)\n",
    "\n",
    "common_cards_flipped = []\n",
    "for flip in common_cards:\n",
    "    common_cards_flipped.append(False)\n",
    "\n",
    "print(common_cards)\n",
    "len(shuffled)"
   ]
  },
  {
   "cell_type": "code",
   "execution_count": 33,
   "metadata": {},
   "outputs": [
    {
     "name": "stdout",
     "output_type": "stream",
     "text": [
      "players_high [<poker_classes.player.Player object at 0x00000236A7FAFB48>, <poker_classes.player.Player object at 0x00000236A7FBA188>, <poker_classes.player.Player object at 0x00000236A9F34E88>]\n",
      "players_low [<poker_classes.player.Player object at 0x00000236A7FBA088>, <poker_classes.player.Player object at 0x00000236A7EDAC88>, <poker_classes.player.Player object at 0x00000236A9F38C88>]\n"
     ]
    }
   ],
   "source": [
    "game=Game()\n",
    "dealer=Dealer()\n",
    "dealer.deal_cards(players,this_game,aseed=27)\n",
    "choices=[['high','low'],['low','high',],['folded','low'],['high','folded'],['folded','folded']]\n",
    "for i,p in enumerate(players):\n",
    "    p.hands_hi_lo=choices[i]\n",
    "    players[i]=p\n",
    "\n",
    "players_high,players_low = dealer.get_high_low_hands(players)\n",
    "print(\"players_high\",players_high)\n",
    "print(\"players_low\",players_low)\n"
   ]
  },
  {
   "cell_type": "code",
   "execution_count": 34,
   "metadata": {},
   "outputs": [
    {
     "name": "stdout",
     "output_type": "stream",
     "text": [
      "[<poker_classes.player.Player object at 0x00000236A7FAFB48>, <poker_classes.player.Player object at 0x00000236A7FBA188>, <poker_classes.player.Player object at 0x00000236A9F34E88>]\n",
      "['high', 'low']\n",
      "['low', 'high']\n",
      "['high', 'folded']\n",
      "[['high', 'low'], ['low', 'high'], ['high', 'folded']]\n"
     ]
    }
   ],
   "source": [
    "print(players_high)\n",
    "declare_list=[]\n",
    "for p in players_high:\n",
    "    declare_list.append(p.hands_hi_lo)\n",
    "    print(p.hands_hi_lo)\n",
    "    \n",
    "print(declare_list)"
   ]
  },
  {
   "cell_type": "code",
   "execution_count": 32,
   "metadata": {},
   "outputs": [],
   "source": [
    "pickle.dump(players_high,open(working_dir+'/static/test_files/players_high_ref.p',\"wb\"))\n",
    "pickle.dump(players_low,open(working_dir+'/static/test_files/players_low_ref.p',\"wb\"))"
   ]
  },
  {
   "cell_type": "code",
   "execution_count": 35,
   "metadata": {},
   "outputs": [
    {
     "name": "stdout",
     "output_type": "stream",
     "text": [
      "[['high', 'low'], ['low', 'high'], ['high', 'folded']]\n"
     ]
    }
   ],
   "source": [
    "players_high_ref=favorite_color = pickle.load( open( working_dir+'/static/test_files/players_high_ref.p', \"rb\" ) )\n",
    "declare_ref=[]\n",
    "for p in players_high_ref:\n",
    "        declare_ref.append(p.hands_hi_lo)\n",
    "print(declare_ref)"
   ]
  },
  {
   "cell_type": "code",
   "execution_count": 36,
   "metadata": {},
   "outputs": [
    {
     "data": {
      "text/plain": [
       "True"
      ]
     },
     "execution_count": 36,
     "metadata": {},
     "output_type": "execute_result"
    }
   ],
   "source": [
    "declare_ref==declare_list"
   ]
  },
  {
   "cell_type": "code",
   "execution_count": null,
   "metadata": {},
   "outputs": [],
   "source": [
    "# Save a dictionary into a pickle file.\n",
    "   2 import pickle\n",
    "   3 \n",
    "   4 favorite_color = { \"lion\": \"yellow\", \"kitty\": \"red\" }\n",
    "   5 \n",
    "   6 pickle.dump( favorite_color, open( \"save.p\", \"wb\" ) )"
   ]
  },
  {
   "cell_type": "code",
   "execution_count": null,
   "metadata": {},
   "outputs": [],
   "source": []
  },
  {
   "cell_type": "code",
   "execution_count": null,
   "metadata": {},
   "outputs": [],
   "source": []
  },
  {
   "cell_type": "code",
   "execution_count": null,
   "metadata": {},
   "outputs": [],
   "source": []
  },
  {
   "cell_type": "code",
   "execution_count": null,
   "metadata": {},
   "outputs": [],
   "source": []
  },
  {
   "cell_type": "code",
   "execution_count": null,
   "metadata": {},
   "outputs": [],
   "source": [
    "\n",
    "df=pd.DataFrame(columns=['A','B'],data=[[1,1],[2,2],[3,3],[4,4],[5,6]])\n",
    "df['A'].expanding().sum()\n",
    "cmap='Reds'\n",
    "plt.pie(df['A'],color=df['B'],cmap='Reds',labels=df['B'])\n",
    "plt.show()"
   ]
  },
  {
   "cell_type": "code",
   "execution_count": null,
   "metadata": {},
   "outputs": [],
   "source": [
    "help(plt.pie_)"
   ]
  },
  {
   "cell_type": "code",
   "execution_count": null,
   "metadata": {},
   "outputs": [],
   "source": [
    "this_game.__dict__"
   ]
  },
  {
   "cell_type": "code",
   "execution_count": null,
   "metadata": {},
   "outputs": [],
   "source": []
  },
  {
   "cell_type": "code",
   "execution_count": null,
   "metadata": {},
   "outputs": [],
   "source": []
  },
  {
   "cell_type": "code",
   "execution_count": null,
   "metadata": {},
   "outputs": [],
   "source": [
    "from io import BytesIO\n",
    "\n",
    "fig = Figure()\n",
    "ax = fig.subplots()\n",
    "ax.plot([1, 2])\n",
    "\n",
    "# Save it to a temporary buffer.\n",
    "buf = BytesIO()\n",
    "fig.savefig(buf, format=\"png\")\n"
   ]
  },
  {
   "cell_type": "code",
   "execution_count": 9,
   "metadata": {},
   "outputs": [],
   "source": [
    "fig = Figure(figsize=(5, 3), dpi=100)\n",
    "ax1=fig.add_subplot(1,1,1)\n",
    "xs=[1,2,3]\n",
    "ys=[1,2,3]\n",
    "\n",
    "ax1.bar(xs,ys)\n",
    "fig.savefig('bob.png')"
   ]
  },
  {
   "cell_type": "code",
   "execution_count": null,
   "metadata": {},
   "outputs": [],
   "source": []
  },
  {
   "cell_type": "code",
   "execution_count": 9,
   "metadata": {},
   "outputs": [
    {
     "name": "stdout",
     "output_type": "stream",
     "text": [
      "1\n",
      " c index: 1\n",
      "len: 4  e index: 3\n"
     ]
    },
    {
     "data": {
      "text/plain": [
       "True"
      ]
     },
     "execution_count": 9,
     "metadata": {},
     "output_type": "execute_result"
    }
   ],
   "source": [
    "l1=['a','b','c','d','e']\n",
    "print(l1.index('b'))\n",
    "l1.pop(l1.index('b'))\n",
    "print(f\" c index: {l1.index('c')}\")\n",
    "print(f\"len: {len(l1)}  e index: {l1.index('e')}\")\n",
    "\n",
    "'e' == l1[-1]"
   ]
  },
  {
   "cell_type": "code",
   "execution_count": 10,
   "metadata": {},
   "outputs": [
    {
     "data": {
      "text/plain": [
       "2"
      ]
     },
     "execution_count": 10,
     "metadata": {},
     "output_type": "execute_result"
    }
   ],
   "source": [
    "l2=[5,5,10,10,10,5,5]\n",
    "l2.index(10,)"
   ]
  },
  {
   "cell_type": "code",
   "execution_count": 115,
   "metadata": {},
   "outputs": [],
   "source": [
    "def rank_single_hand(hand):\n",
    "        '''accept list of 5 cards, return hand rank\n",
    "        If Ace, run calculations twice, returns a list of best hand(s).'''\n",
    "\n",
    "        # trap for folded hand\n",
    "        if hand == 'folded':\n",
    "            folded_hand = (100, f\"Folded\", ['folded'], 'folded')\n",
    "            return folded_hand, folded_hand\n",
    "\n",
    "        # Separate cards into ranks and suits\n",
    "        rank_list = [x[0] for x in hand]\n",
    "        suits_list = [x[1] for x in hand]\n",
    "\n",
    "        # Find two most common combinations, allows id of all hands including fh\n",
    "        cnt_rnk = Counter(rank_list)\n",
    "        mc_1 = cnt_rnk.most_common()[0]\n",
    "        mc_2 = cnt_rnk.most_common()[1]\n",
    "\n",
    "        # Set flush flag\n",
    "        flush_flag = False\n",
    "        if len(list(set(suits_list))) == 1:\n",
    "            flush_flag = True\n",
    "\n",
    "        # set ace_flag and hand combinations to try\n",
    "\n",
    "        hand_options = [rank_list.copy()]\n",
    "        ace_flag = False\n",
    "        if 1 in rank_list:\n",
    "            ace_flag = True\n",
    "            a_h_list = [x if x != 1 else 14 for x in rank_list]\n",
    "            a_l_list = rank_list\n",
    "            hand_options = [a_h_list, a_l_list]\n",
    "\n",
    "        print(f\"hand_options: {hand_options}\")\n",
    "        high_hands = []\n",
    "        low_hands = []\n",
    "\n",
    "        for tmp in hand_options:\n",
    "\n",
    "            # Find two most common combinations, allows id of all hands including fh\n",
    "            cnt_rnk = Counter(tmp)\n",
    "            mc_1 = cnt_rnk.most_common()[0]\n",
    "            mc_2 = cnt_rnk.most_common()[1]\n",
    "\n",
    "            hand_decision = False\n",
    "\n",
    "            if not flush_flag:\n",
    "\n",
    "                if (mc_1[1] == 2) & (mc_2[1] == 1) & (hand_decision == False):\n",
    "\n",
    "                    show = [x for x in tmp if x == mc_1[0]] + \\\n",
    "                           sorted([x for x in tmp if x != mc_1[0]], reverse=True)\n",
    "\n",
    "                    show_low = [x for x in tmp if x == mc_1[0]] + \\\n",
    "                               sorted([x for x in tmp if x != mc_1[0]])\n",
    "\n",
    "                    high_hands.append((8, f\"Pair\", show, hand))\n",
    "                    low_hands.append((2, f\"Pair\", show_low, hand))\n",
    "\n",
    "                elif (mc_1[1] == 2) & (mc_2[1] == 2) & (hand_decision == False):\n",
    "\n",
    "                    if mc_1[0] > mc_2[0]:\n",
    "                        a = mc_1[0]\n",
    "                        b = mc_2[0]\n",
    "                    else:\n",
    "                        a = mc_2[0]\n",
    "                        b = mc_1[0]\n",
    "                    show = [x for x in tmp if x == a] + \\\n",
    "                           [x for x in tmp if x == b] + \\\n",
    "                           sorted([x for x in tmp if (x != mc_1[0]) & (x != mc_2[0])],\n",
    "                                  reverse=True)\n",
    "\n",
    "                    show_low = [x for x in tmp if x == a] + \\\n",
    "                               [x for x in tmp if x == b] + \\\n",
    "                               sorted([x for x in tmp if (x != mc_1[0]) & (x != mc_2[0])])\n",
    "\n",
    "                    high_hands.append((7, f\"Two Pair\", show, hand))\n",
    "                    low_hands.append((3, f\"Two Pair\", show_low, hand))\n",
    "\n",
    "                elif (mc_1[1] == 3) & (mc_2[1] == 1) & (hand_decision == False):\n",
    "\n",
    "                    show = [x for x in tmp if x == mc_1[0]] + \\\n",
    "                           sorted([x for x in tmp if x != mc_1[0]], reverse=True)\n",
    "                    show_low = [x for x in tmp if x == mc_1[0]] + \\\n",
    "                               sorted([x for x in tmp if x != mc_1[0]])\n",
    "\n",
    "                    high_hands.append((6, f\"Three of a Kind\", show, hand))\n",
    "                    low_hands.append((4, f\"Three of a Kind\", show_low, hand))\n",
    "\n",
    "                elif (max(rank_list) - min(rank_list) == 4) & \\\n",
    "                        (len(set(rank_list)) == 5) & (hand_decision == False):\n",
    "                    # best_hands.append((5,'Straight '+str(sorted(rank_list,reverse=True))))\n",
    "                    high_hands.append((5, 'Straight', sorted(rank_list, reverse=True), hand))\n",
    "                    low_hands.append((5, 'Straight', sorted(rank_list, reverse=True), hand))\n",
    "\n",
    "                elif (mc_1[1] == 3) & (mc_2[1] == 2) & (hand_decision == False):\n",
    "\n",
    "                    show = [x for x in tmp if x == mc_1[0]] + \\\n",
    "                           sorted([x for x in tmp if x != mc_1[0]], reverse=True)\n",
    "\n",
    "                    high_hands.append((3, f\"Full House\", show, hand))\n",
    "                    low_hands.append((7, f\"Full House\", show, hand))\n",
    "\n",
    "                elif (mc_1[1] == 4) & (mc_2[1] == 1) & (hand_decision == False):\n",
    "                    show = [x for x in tmp if x == mc_1[0]] + \\\n",
    "                           sorted([x for x in tmp if x != mc_1[0]], reverse=True)\n",
    "                    high_hands.append((2, f'Four of a Kind', show, hand))\n",
    "                    low_hands.append((8, f'Four of a Kind', show, hand))\n",
    "\n",
    "                else:\n",
    "                    high_hands.append((9, 'High card', sorted(tmp, reverse=True), hand))\n",
    "                    low_hands.append((1, 'High card', sorted(tmp, reverse=True), hand))\n",
    "\n",
    "            elif flush_flag:\n",
    "                \n",
    "                if (max(tmp) - min(tmp) == 4) & (len(set(tmp)) == 5) & \\\n",
    "                        (hand_decision == False):\n",
    "                    high_hands.append((1, f\"Straight Flush\", sorted(tmp, reverse=True), hand))\n",
    "                    low_hands.append((9, f\"Straight Flush\", sorted(tmp), hand))\n",
    "                else:\n",
    "                    high_hands.append((4, f\"Flush\", sorted(tmp, reverse=True), hand))\n",
    "                    low_hands.append((6, f\"Flush\", sorted(tmp, reverse=True), hand))\n",
    "            else:\n",
    "                high_hands.append('Unknown: ' + str(hand))\n",
    "                low_hands.append('Unknown: ' + str(hand))\n",
    "                \n",
    "        def adjust_for_sorting(high_low_hand):\n",
    "            '''Bandaid for sorting problem requires two uses of high_ranks dict'''\n",
    "            high_ranks={1:9,2:8,3:7,4:6,5:5,6:4,7:3,8:2,9:1}\n",
    "            new_hands=[]\n",
    "            for x in high_low_hand:\n",
    "                new_hands.append((high_ranks[x[0]],x[1],x[2],x[3]))\n",
    "            best_hand = sorted(new_hands, key=lambda x: (x[0], x[2]))[-1]\n",
    "            print(\"da_best_hand\",best_hand)\n",
    "            best_hand=(((high_ranks[best_hand[0]],best_hand[1],best_hand[2],best_hand[3])))\n",
    "            return best_hand\n",
    "        best_high=adjust_for_sorting(high_hands)\n",
    "        return best_high, min(low_hands)#adjust_for_sorting(low_hands)#"
   ]
  },
  {
   "cell_type": "code",
   "execution_count": 117,
   "metadata": {},
   "outputs": [
    {
     "name": "stdout",
     "output_type": "stream",
     "text": [
      "hand_options: [[2, 3, 4, 5, 14], [2, 3, 4, 5, 1]]\n",
      "da_best_hand (9, 'Straight Flush', [5, 4, 3, 2, 1], [(2, 'H'), (3, 'H'), (4, 'H'), (5, 'H'), (1, 'H')])\n",
      "[(2, 'H'), (3, 'H'), (4, 'H'), (5, 'H'), (1, 'H')]\n",
      "Best High: (1, 'Straight Flush', [5, 4, 3, 2, 1], [(2, 'H'), (3, 'H'), (4, 'H'), (5, 'H'), (1, 'H')])\n",
      "Best Low: (6, 'Flush', [14, 5, 4, 3, 2], [(2, 'H'), (3, 'H'), (4, 'H'), (5, 'H'), (1, 'H')])\n"
     ]
    }
   ],
   "source": [
    "hand=[(2,'C'),(3,'H'),(4,'H'),(5,'H'),(1,'H')]\n",
    "hand=[(2,'H'),(3,'H'),(4,'H'),(5,'H'),(1,'H')]\n",
    "#hand=[(13,'H'),(12,'H'),(10,'H'),(11,'H'),(1,'H')]\n",
    "#hand=[(3,'H'),(1,'H'),(3,'C'),(1,'C'),(1,'D')]\n",
    "#hand=[(2,'C'),(3,'H'),(4,'H'),(1,'D'),(1,'H')]\n",
    "#hand=[(2,'C'),(3,'H'),(4,'H'),(5,'H'),(1,'H')]\n",
    "#hand=[(2,'H'),(3,'H'),(4,'H'),(6,'H'),(1,'H')]\n",
    "bh,bl=rank_single_hand(hand)\n",
    "print(hand)\n",
    "print(f\"Best High: {bh}\")\n",
    "print(f\"Best Low: {bl}\")"
   ]
  },
  {
   "cell_type": "code",
   "execution_count": 53,
   "metadata": {},
   "outputs": [
    {
     "name": "stdout",
     "output_type": "stream",
     "text": [
      "[(3, 'Full House', [1, 1, 1, 3, 3], [(3, 'H'), (1, 'H'), (3, 'C'), (1, 'C'), (1, 'D')]), (3, 'Full House', [14, 14, 14, 3, 3], [(3, 'H'), (1, 'H'), (3, 'C'), (1, 'C'), (1, 'D')])]\n"
     ]
    }
   ],
   "source": [
    "\n",
    "s = sorted(hhs, key=lambda x: (x[0], x[2]))\n",
    "print(s)"
   ]
  },
  {
   "cell_type": "code",
   "execution_count": 72,
   "metadata": {},
   "outputs": [
    {
     "name": "stdout",
     "output_type": "stream",
     "text": [
      "(1, 'Straight Flush', [14, 13, 12, 11, 10], [(13, 'H'), (12, 'H'), (10, 'H'), (11, 'H'), (1, 'H')])\n"
     ]
    }
   ],
   "source": [
    "def adjust_for_high(high_hands):\n",
    "    high_ranks={1:9,2:8,3:7,4:6,5:5,6:4,7:3,8:2,9:1}\n",
    "    new_highs=[]\n",
    "    for x in high_hands:\n",
    "        new_highs.append((high_ranks[x[0]],x[1],x[2],x[3]))\n",
    "    best_high = sorted(new_highs, key=lambda x: (x[0], x[2]))[-1]\n",
    "    best_high=(((high_ranks[best_high[0]],best_high[1],best_high[2],best_high[3])))\n",
    "        \n",
    "    \n",
    "    print(best_high)\n",
    "    \n",
    "adjust_for_high(hhs)"
   ]
  },
  {
   "cell_type": "code",
   "execution_count": 70,
   "metadata": {},
   "outputs": [
    {
     "name": "stdout",
     "output_type": "stream",
     "text": [
      "2020-06-04 12:15:51.200153\n"
     ]
    }
   ],
   "source": [
    "from pytz import timezone\n",
    "\n",
    "def get_local_time(target_tz='US/Eastern'):\n",
    "    # define eastern timezone\n",
    "    my_tz = timezone(target_tz)\n",
    "    current_time=dt.datetime.now(my_tz)\n",
    "    return f\"{current_time.date()}\",f\"{current_time.time()}\"\n",
    "\n",
    "da_date,da_time=get_local_time()\n",
    "print(str(da_date),str(da_time))"
   ]
  },
  {
   "cell_type": "code",
   "execution_count": 20,
   "metadata": {},
   "outputs": [
    {
     "ename": "TypeError",
     "evalue": "descriptor 'tzname' requires a 'datetime.datetime' object but received a 'str'",
     "output_type": "error",
     "traceback": [
      "\u001b[1;31m---------------------------------------------------------------------------\u001b[0m",
      "\u001b[1;31mTypeError\u001b[0m                                 Traceback (most recent call last)",
      "\u001b[1;32m<ipython-input-20-42dec3e33eb3>\u001b[0m in \u001b[0;36m<module>\u001b[1;34m\u001b[0m\n\u001b[1;32m----> 1\u001b[1;33m \u001b[0mbob\u001b[0m\u001b[1;33m=\u001b[0m\u001b[0mdt\u001b[0m\u001b[1;33m.\u001b[0m\u001b[0mdatetime\u001b[0m\u001b[1;33m.\u001b[0m\u001b[0mtzname\u001b[0m\u001b[1;33m(\u001b[0m\u001b[1;34m'New York'\u001b[0m\u001b[1;33m)\u001b[0m\u001b[1;33m\u001b[0m\u001b[1;33m\u001b[0m\u001b[0m\n\u001b[0m",
      "\u001b[1;31mTypeError\u001b[0m: descriptor 'tzname' requires a 'datetime.datetime' object but received a 'str'"
     ]
    }
   ],
   "source": [
    "bob=dt.datetime.tzname('New York')"
   ]
  },
  {
   "cell_type": "code",
   "execution_count": 15,
   "metadata": {},
   "outputs": [
    {
     "name": "stdout",
     "output_type": "stream",
     "text": [
      "Help on class datetime in module datetime:\n",
      "\n",
      "class datetime(date)\n",
      " |  datetime(year, month, day[, hour[, minute[, second[, microsecond[,tzinfo]]]]])\n",
      " |  \n",
      " |  The year, month and day arguments are required. tzinfo may be None, or an\n",
      " |  instance of a tzinfo subclass. The remaining arguments may be ints.\n",
      " |  \n",
      " |  Method resolution order:\n",
      " |      datetime\n",
      " |      date\n",
      " |      builtins.object\n",
      " |  \n",
      " |  Methods defined here:\n",
      " |  \n",
      " |  __add__(self, value, /)\n",
      " |      Return self+value.\n",
      " |  \n",
      " |  __eq__(self, value, /)\n",
      " |      Return self==value.\n",
      " |  \n",
      " |  __ge__(self, value, /)\n",
      " |      Return self>=value.\n",
      " |  \n",
      " |  __getattribute__(self, name, /)\n",
      " |      Return getattr(self, name).\n",
      " |  \n",
      " |  __gt__(self, value, /)\n",
      " |      Return self>value.\n",
      " |  \n",
      " |  __hash__(self, /)\n",
      " |      Return hash(self).\n",
      " |  \n",
      " |  __le__(self, value, /)\n",
      " |      Return self<=value.\n",
      " |  \n",
      " |  __lt__(self, value, /)\n",
      " |      Return self<value.\n",
      " |  \n",
      " |  __ne__(self, value, /)\n",
      " |      Return self!=value.\n",
      " |  \n",
      " |  __radd__(self, value, /)\n",
      " |      Return value+self.\n",
      " |  \n",
      " |  __reduce__(...)\n",
      " |      __reduce__() -> (cls, state)\n",
      " |  \n",
      " |  __reduce_ex__(...)\n",
      " |      __reduce_ex__(proto) -> (cls, state)\n",
      " |  \n",
      " |  __repr__(self, /)\n",
      " |      Return repr(self).\n",
      " |  \n",
      " |  __rsub__(self, value, /)\n",
      " |      Return value-self.\n",
      " |  \n",
      " |  __str__(self, /)\n",
      " |      Return str(self).\n",
      " |  \n",
      " |  __sub__(self, value, /)\n",
      " |      Return self-value.\n",
      " |  \n",
      " |  astimezone(...)\n",
      " |      tz -> convert to local time in new timezone tz\n",
      " |  \n",
      " |  ctime(...)\n",
      " |      Return ctime() style string.\n",
      " |  \n",
      " |  date(...)\n",
      " |      Return date object with same year, month and day.\n",
      " |  \n",
      " |  dst(...)\n",
      " |      Return self.tzinfo.dst(self).\n",
      " |  \n",
      " |  isoformat(...)\n",
      " |      [sep] -> string in ISO 8601 format, YYYY-MM-DDT[HH[:MM[:SS[.mmm[uuu]]]]][+HH:MM].\n",
      " |      sep is used to separate the year from the time, and defaults to 'T'.\n",
      " |      timespec specifies what components of the time to include (allowed values are 'auto', 'hours', 'minutes', 'seconds', 'milliseconds', and 'microseconds').\n",
      " |  \n",
      " |  replace(...)\n",
      " |      Return datetime with new specified fields.\n",
      " |  \n",
      " |  time(...)\n",
      " |      Return time object with same time but with tzinfo=None.\n",
      " |  \n",
      " |  timestamp(...)\n",
      " |      Return POSIX timestamp as float.\n",
      " |  \n",
      " |  timetuple(...)\n",
      " |      Return time tuple, compatible with time.localtime().\n",
      " |  \n",
      " |  timetz(...)\n",
      " |      Return time object with same time and tzinfo.\n",
      " |  \n",
      " |  tzname(...)\n",
      " |      Return self.tzinfo.tzname(self).\n",
      " |  \n",
      " |  utcoffset(...)\n",
      " |      Return self.tzinfo.utcoffset(self).\n",
      " |  \n",
      " |  utctimetuple(...)\n",
      " |      Return UTC time tuple, compatible with time.localtime().\n",
      " |  \n",
      " |  ----------------------------------------------------------------------\n",
      " |  Class methods defined here:\n",
      " |  \n",
      " |  combine(...) from builtins.type\n",
      " |      date, time -> datetime with same date and time fields\n",
      " |  \n",
      " |  fromisoformat(...) from builtins.type\n",
      " |      string -> datetime from datetime.isoformat() output\n",
      " |  \n",
      " |  fromtimestamp(...) from builtins.type\n",
      " |      timestamp[, tz] -> tz's local time from POSIX timestamp.\n",
      " |  \n",
      " |  now(tz=None) from builtins.type\n",
      " |      Returns new datetime object representing current time local to tz.\n",
      " |      \n",
      " |        tz\n",
      " |          Timezone object.\n",
      " |      \n",
      " |      If no tz is specified, uses local timezone.\n",
      " |  \n",
      " |  strptime(...) from builtins.type\n",
      " |      string, format -> new datetime parsed from a string (like time.strptime()).\n",
      " |  \n",
      " |  utcfromtimestamp(...) from builtins.type\n",
      " |      Construct a naive UTC datetime from a POSIX timestamp.\n",
      " |  \n",
      " |  utcnow(...) from builtins.type\n",
      " |      Return a new datetime representing UTC day and time.\n",
      " |  \n",
      " |  ----------------------------------------------------------------------\n",
      " |  Static methods defined here:\n",
      " |  \n",
      " |  __new__(*args, **kwargs) from builtins.type\n",
      " |      Create and return a new object.  See help(type) for accurate signature.\n",
      " |  \n",
      " |  ----------------------------------------------------------------------\n",
      " |  Data descriptors defined here:\n",
      " |  \n",
      " |  fold\n",
      " |  \n",
      " |  hour\n",
      " |  \n",
      " |  microsecond\n",
      " |  \n",
      " |  minute\n",
      " |  \n",
      " |  second\n",
      " |  \n",
      " |  tzinfo\n",
      " |  \n",
      " |  ----------------------------------------------------------------------\n",
      " |  Data and other attributes defined here:\n",
      " |  \n",
      " |  max = datetime.datetime(9999, 12, 31, 23, 59, 59, 999999)\n",
      " |  \n",
      " |  min = datetime.datetime(1, 1, 1, 0, 0)\n",
      " |  \n",
      " |  resolution = datetime.timedelta(microseconds=1)\n",
      " |  \n",
      " |  ----------------------------------------------------------------------\n",
      " |  Methods inherited from date:\n",
      " |  \n",
      " |  __format__(...)\n",
      " |      Formats self with strftime.\n",
      " |  \n",
      " |  isocalendar(...)\n",
      " |      Return a 3-tuple containing ISO year, week number, and weekday.\n",
      " |  \n",
      " |  isoweekday(...)\n",
      " |      Return the day of the week represented by the date.\n",
      " |      Monday == 1 ... Sunday == 7\n",
      " |  \n",
      " |  strftime(...)\n",
      " |      format -> strftime() style string.\n",
      " |  \n",
      " |  toordinal(...)\n",
      " |      Return proleptic Gregorian ordinal.  January 1 of year 1 is day 1.\n",
      " |  \n",
      " |  weekday(...)\n",
      " |      Return the day of the week represented by the date.\n",
      " |      Monday == 0 ... Sunday == 6\n",
      " |  \n",
      " |  ----------------------------------------------------------------------\n",
      " |  Class methods inherited from date:\n",
      " |  \n",
      " |  fromordinal(...) from builtins.type\n",
      " |      int -> date corresponding to a proleptic Gregorian ordinal.\n",
      " |  \n",
      " |  today(...) from builtins.type\n",
      " |      Current date or datetime:  same as self.__class__.fromtimestamp(time.time()).\n",
      " |  \n",
      " |  ----------------------------------------------------------------------\n",
      " |  Data descriptors inherited from date:\n",
      " |  \n",
      " |  day\n",
      " |  \n",
      " |  month\n",
      " |  \n",
      " |  year\n",
      "\n"
     ]
    }
   ],
   "source": [
    "help(dt.datetime)"
   ]
  },
  {
   "cell_type": "code",
   "execution_count": 51,
   "metadata": {},
   "outputs": [
    {
     "name": "stdout",
     "output_type": "stream",
     "text": [
      "         date          time  hand       Name  Stake  in_hand  winnings  \\\n",
      "0  06/04/2010  10:23:19.234     1  Bornstein    450       40        35   \n",
      "1  06/04/2010  10:23:19.234     1    Mr.Pink    450       40        35   \n",
      "2  06/04/2010  10:23:19.234     1    Mr.Pink    460       35         0   \n",
      "3  06/04/2010  10:23:19.234     1  Bornstein    435       50        85   \n",
      "4  06/04/2010  10:23:19.234     1    Mr.Pink    460       35         0   \n",
      "5  06/04/2010  10:23:19.234     1  Bornstein    520       50        85   \n",
      "6  06/04/2010  10:23:19.234     1    Mr.Pink    400       60       120   \n",
      "7  06/04/2010  10:23:19.234     1  Bornstein    545       60         0   \n",
      "\n",
      "   p_and_l  \n",
      "0      -15  \n",
      "1       -5  \n",
      "2       40  \n",
      "3       20  \n",
      "4      -40  \n",
      "5      105  \n",
      "6       20  \n",
      "7       45  \n"
     ]
    }
   ],
   "source": [
    "bob=pd.read_csv('C:\\\\Users\\\\bill_\\\\github\\\\pic_a_wheel\\\\Old Files\\\\cumm_pandl_test.csv')\n",
    "bob\n",
    "\n",
    "tmp_df=bob.copy()\n",
    "tmp_columns=tmp_df.columns\n",
    "\n",
    "tmp_df['hand']=1\n",
    "\n",
    "da_date,da_time='06/04/2010','10:23:19.234'\n",
    "tmp_df['date']=da_date\n",
    "tmp_df['time']=da_time\n",
    "new_cols=['date','time','hand']+[x for x in tmp_df.columns if x not in ['date','time','hand']]\n",
    "\n",
    "tmp_df=tmp_df[new_cols]\n",
    "print(tmp_df)\n",
    "\n"
   ]
  },
  {
   "cell_type": "code",
   "execution_count": 77,
   "metadata": {},
   "outputs": [
    {
     "name": "stdout",
     "output_type": "stream",
     "text": [
      "                             Start  Game\n",
      "0 2020-06-04 12:29:24.316873-04:00     0\n"
     ]
    },
    {
     "data": {
      "text/plain": [
       "datetime.date(2020, 6, 4)"
      ]
     },
     "execution_count": 77,
     "metadata": {},
     "output_type": "execute_result"
    }
   ],
   "source": [
    "def initialize_game_times():\n",
    "    target_tz='US/Eastern'\n",
    "    my_tz = timezone(target_tz)\n",
    "    current_time=dt.datetime.now(my_tz)\n",
    "    tmp_df=pd.DataFrame(columns=['Start','Game'],data=[[current_time,0]])\n",
    "    tmp_df.to_csv('C:\\\\Users\\\\bill_\\\\github\\\\pic_a_wheel\\\\performance_summaries\\\\game_starts.csv')\n",
    "    print(tmp_df)\n",
    "    return tmp_df\n",
    "    \n",
    "game_df=initialize_game_times()\n",
    "bob=game_df.Start.max()\n",
    "bob.date()\n",
    "    "
   ]
  },
  {
   "cell_type": "code",
   "execution_count": 119,
   "metadata": {},
   "outputs": [
    {
     "name": "stdout",
     "output_type": "stream",
     "text": [
      "2020-06-04 2020-06-04\n",
      "                              Start  Game\n",
      "0  2020-06-03 12:58:54.913990-04:00     0\n",
      "1  2020-06-04 13:01:55.269153-04:00     1\n",
      "2  2020-06-04 13:02:01.597537-04:00     2\n",
      "3  2020-06-04 13:02:02.696628-04:00     3\n",
      "4  2020-06-04 13:03:37.603998-04:00     4\n"
     ]
    },
    {
     "data": {
      "text/plain": [
       "4"
      ]
     },
     "execution_count": 119,
     "metadata": {},
     "output_type": "execute_result"
    }
   ],
   "source": [
    "def initialize_game_times():\n",
    "    target_tz='US/Eastern'\n",
    "    my_tz = timezone(target_tz)\n",
    "    current_time=dt.datetime.now(my_tz)\n",
    "    tmp_df=pd.DataFrame(columns=['Start','Game'],data=[[current_time,0]])\n",
    "    tmp_df.to_csv('C:\\\\Users\\\\bill_\\\\github\\\\pic_a_wheel\\\\performance_summaries\\\\game_starts.csv')\n",
    "    print(tmp_df)\n",
    "    return tmp_df\n",
    "    \n",
    "\n",
    "def set_game_number():\n",
    "    target_tz='US/Eastern'\n",
    "    my_tz = timezone(target_tz)\n",
    "    current_time=dt.datetime.now(my_tz)\n",
    "    parse_dates=['Start']\n",
    "    games_df=pd.read_csv('C:\\\\Users\\\\bill_\\\\github\\\\pic_a_wheel\\\\performance_summaries\\\\game_starts.csv',\n",
    "                         parse_dates=parse_dates,index_col=0)\n",
    "    max_game_date=games_df['Start'].max()\n",
    "\n",
    "    date_now=dt.datetime.now(my_tz)\n",
    "    print(date_now.date(),max_game_date.date())\n",
    "\n",
    "    if date_now.date() == max_game_date.date():\n",
    "        last_game=games_df.loc[games_df.Start==max_game_date,'Game'].max()\n",
    "        this_game=last_game+1\n",
    "        new_row={'Start':date_now,'Game':this_game}\n",
    "        games_df=games_df.append(new_row, ignore_index=True)\n",
    "        games_df.to_csv('C:\\\\Users\\\\bill_\\\\github\\\\pic_a_wheel\\\\performance_summaries\\\\game_starts.csv')\n",
    "        print(games_df)\n",
    "        \n",
    "    else:\n",
    "        this_game=1\n",
    "        new_row={'Start':date_now,'Game':this_game}\n",
    "        games_df=games_df.append(new_row, ignore_index=True)\n",
    "        games_df.to_csv('C:\\\\Users\\\\bill_\\\\github\\\\pic_a_wheel\\\\performance_summaries\\\\game_starts.csv')\n",
    "        print(games_df)\n",
    "        \n",
    "    return this_game\n",
    "        \n",
    "#game_df=initialize_game_times()\n",
    "set_game_number()  "
   ]
  }
 ],
 "metadata": {
  "kernelspec": {
   "display_name": "Python 3",
   "language": "python",
   "name": "python3"
  },
  "language_info": {
   "codemirror_mode": {
    "name": "ipython",
    "version": 3
   },
   "file_extension": ".py",
   "mimetype": "text/x-python",
   "name": "python",
   "nbconvert_exporter": "python",
   "pygments_lexer": "ipython3",
   "version": "3.7.6"
  }
 },
 "nbformat": 4,
 "nbformat_minor": 4
}
