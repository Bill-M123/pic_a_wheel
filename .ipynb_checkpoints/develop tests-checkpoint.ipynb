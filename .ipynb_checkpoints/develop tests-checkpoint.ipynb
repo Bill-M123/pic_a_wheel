{
 "cells": [
  {
   "cell_type": "code",
   "execution_count": 5,
   "metadata": {},
   "outputs": [],
   "source": [
    "#import matplotlib.pyplot as plt\n",
    "from matplotlib.figure import Figure \n",
    "import numpy as np\n",
    "import pandas as pd\n",
    "import seaborn as sns\n",
    "import datetime as dt\n",
    "import random\n",
    "import os\n",
    "import pickle\n",
    "\n",
    "from collections import Counter\n",
    "from itertools import combinations"
   ]
  },
  {
   "cell_type": "code",
   "execution_count": 2,
   "metadata": {},
   "outputs": [],
   "source": [
    "from poker_classes.cards import Cards\n",
    "from poker_classes.dealer import Dealer\n",
    "from poker_classes.game import Game\n",
    "from poker_classes.player import Player"
   ]
  },
  {
   "cell_type": "code",
   "execution_count": 3,
   "metadata": {},
   "outputs": [],
   "source": [
    "working_dir = os.getcwd()\n",
    "app_dir = working_dir + '/poker_classes/'\n",
    "player_dir = working_dir + '/existing_players/'"
   ]
  },
  {
   "cell_type": "code",
   "execution_count": null,
   "metadata": {},
   "outputs": [],
   "source": []
  },
  {
   "cell_type": "code",
   "execution_count": 4,
   "metadata": {},
   "outputs": [
    {
     "name": "stdout",
     "output_type": "stream",
     "text": [
      "Found JohnAlba\n",
      "Found Brian\n",
      "Found Clyde\n",
      "Found DeGroot\n",
      "Found Mr.Pink\n"
     ]
    }
   ],
   "source": [
    "def make_players():\n",
    "    alba = Player(player_dir, name='John Alba', nickname='JohnAlba')\n",
    "    brian = Player(player_dir, name='Brian Mercer', nickname='Brian')\n",
    "    clyde = Player(player_dir, name='Bob Vincent', nickname='Clyde')\n",
    "    degroot = Player(player_dir, name='Henry DeGroot', nickname='DeGroot')\n",
    "    ed = Player(player_dir, name='Ed Mulhern', nickname='Mr.Pink')\n",
    "    players=[alba,brian,clyde,degroot,ed]\n",
    "    return players\n",
    "\n",
    "players=make_players()"
   ]
  },
  {
   "cell_type": "code",
   "execution_count": 5,
   "metadata": {},
   "outputs": [
    {
     "name": "stdout",
     "output_type": "stream",
     "text": [
      "[(13, 'C'), (12, 'D'), (8, 'H'), (13, 'S'), (3, 'H'), (9, 'S'), (1, 'D'), (1, 'C'), (10, 'C'), (6, 'C'), (8, 'S'), (7, 'C'), (12, 'C'), (2, 'C'), (11, 'C'), (5, 'D'), (11, 'S'), (2, 'D'), (3, 'C'), (9, 'H'), (3, 'S'), (9, 'D'), (6, 'S'), (1, 'S'), (10, 'H'), (4, 'C'), (13, 'D'), (1, 'H'), (10, 'D'), (4, 'H'), (7, 'S'), (7, 'D'), (2, 'H'), (13, 'H'), (8, 'D'), (10, 'S'), (4, 'D'), (3, 'D'), (7, 'H'), (6, 'D'), (11, 'D'), (6, 'H'), (9, 'C'), (5, 'S'), (12, 'H'), (2, 'S'), (4, 'S'), (5, 'C'), (5, 'H'), (12, 'S'), (8, 'C'), (11, 'H')]\n"
     ]
    }
   ],
   "source": [
    "new_deck=[(rank, suit) for rank in range(1, 14) for suit in ['S', 'H', 'C', 'D']]\n",
    "\n",
    "aseed=27\n",
    "if aseed:\n",
    "    random.seed(aseed)\n",
    "\n",
    "random.shuffle(new_deck)\n",
    "print(new_deck)"
   ]
  },
  {
   "cell_type": "code",
   "execution_count": 6,
   "metadata": {},
   "outputs": [
    {
     "name": "stdout",
     "output_type": "stream",
     "text": [
      "[[], []]\n",
      "[[(4, 'C'), (13, 'D'), (1, 'H')], [(10, 'D'), (4, 'H'), (7, 'S')], [(7, 'D'), (2, 'H')]]\n"
     ]
    },
    {
     "data": {
      "text/plain": [
       "19"
      ]
     },
     "execution_count": 6,
     "metadata": {},
     "output_type": "execute_result"
    }
   ],
   "source": [
    "def deal_card(deck):\n",
    "        '''Return single card, and adjusted deck'''\n",
    "        card = deck.pop(0)\n",
    "        return card, deck\n",
    "    \n",
    "def shuffle_deck(deck,aseed=False):\n",
    "        '''Shuffles card in deck, returns decl'''\n",
    "        random.seed(dt.datetime.now().microsecond)\n",
    "        if aseed:\n",
    "            random.seed(aseed)\n",
    "        random.shuffle(deck)\n",
    "        return deck\n",
    "\n",
    "\n",
    "this_game=Game()\n",
    "this_game.set_pic_a_wheel()\n",
    "print(this_game.hands)\n",
    "\n",
    "aseed=27\n",
    "new_deck = [(rank, suit) for rank in range(1, 14) for suit in ['S', 'H', 'C', 'D']]\n",
    "shuffled = shuffle_deck(new_deck,aseed=aseed)\n",
    "\n",
    "# deal\n",
    "for p in players:\n",
    "    p.hands = this_game.hands\n",
    "\n",
    "for p in players:\n",
    "    card_count = 0\n",
    "    p.hands = [[] for x in this_game.hands_count]\n",
    "    for i, c in enumerate(this_game.hands_count):\n",
    "        for h in range(c):\n",
    "\n",
    "            if card_count < c:\n",
    "                card, shuffled = deal_card(shuffled)\n",
    "                p.hands[i].append(card)\n",
    "\n",
    "            else:\n",
    "                pass\n",
    "    card_count += 1\n",
    "\n",
    "    p.common_cards = []\n",
    "    for c in range(this_game.p_common):\n",
    "        card, shuffled = deal_card(shuffled)\n",
    "        p.common_cards.append(card)\n",
    "\n",
    "common_cards = [[] for x in range(len(this_game.common_cards))]\n",
    "for i, flip in enumerate(this_game.common_cards):\n",
    "    for f in range(flip):\n",
    "        card, shuffled = deal_card(shuffled)\n",
    "        common_cards[i].append(card)\n",
    "\n",
    "common_cards_flipped = []\n",
    "for flip in common_cards:\n",
    "    common_cards_flipped.append(False)\n",
    "\n",
    "print(common_cards)\n",
    "len(shuffled)"
   ]
  },
  {
   "cell_type": "code",
   "execution_count": 33,
   "metadata": {},
   "outputs": [
    {
     "name": "stdout",
     "output_type": "stream",
     "text": [
      "players_high [<poker_classes.player.Player object at 0x00000236A7FAFB48>, <poker_classes.player.Player object at 0x00000236A7FBA188>, <poker_classes.player.Player object at 0x00000236A9F34E88>]\n",
      "players_low [<poker_classes.player.Player object at 0x00000236A7FBA088>, <poker_classes.player.Player object at 0x00000236A7EDAC88>, <poker_classes.player.Player object at 0x00000236A9F38C88>]\n"
     ]
    }
   ],
   "source": [
    "game=Game()\n",
    "dealer=Dealer()\n",
    "dealer.deal_cards(players,this_game,aseed=27)\n",
    "choices=[['high','low'],['low','high',],['folded','low'],['high','folded'],['folded','folded']]\n",
    "for i,p in enumerate(players):\n",
    "    p.hands_hi_lo=choices[i]\n",
    "    players[i]=p\n",
    "\n",
    "players_high,players_low = dealer.get_high_low_hands(players)\n",
    "print(\"players_high\",players_high)\n",
    "print(\"players_low\",players_low)\n"
   ]
  },
  {
   "cell_type": "code",
   "execution_count": 34,
   "metadata": {},
   "outputs": [
    {
     "name": "stdout",
     "output_type": "stream",
     "text": [
      "[<poker_classes.player.Player object at 0x00000236A7FAFB48>, <poker_classes.player.Player object at 0x00000236A7FBA188>, <poker_classes.player.Player object at 0x00000236A9F34E88>]\n",
      "['high', 'low']\n",
      "['low', 'high']\n",
      "['high', 'folded']\n",
      "[['high', 'low'], ['low', 'high'], ['high', 'folded']]\n"
     ]
    }
   ],
   "source": [
    "print(players_high)\n",
    "declare_list=[]\n",
    "for p in players_high:\n",
    "    declare_list.append(p.hands_hi_lo)\n",
    "    print(p.hands_hi_lo)\n",
    "    \n",
    "print(declare_list)"
   ]
  },
  {
   "cell_type": "code",
   "execution_count": 32,
   "metadata": {},
   "outputs": [],
   "source": [
    "pickle.dump(players_high,open(working_dir+'/static/test_files/players_high_ref.p',\"wb\"))\n",
    "pickle.dump(players_low,open(working_dir+'/static/test_files/players_low_ref.p',\"wb\"))"
   ]
  },
  {
   "cell_type": "code",
   "execution_count": 35,
   "metadata": {},
   "outputs": [
    {
     "name": "stdout",
     "output_type": "stream",
     "text": [
      "[['high', 'low'], ['low', 'high'], ['high', 'folded']]\n"
     ]
    }
   ],
   "source": [
    "players_high_ref=favorite_color = pickle.load( open( working_dir+'/static/test_files/players_high_ref.p', \"rb\" ) )\n",
    "declare_ref=[]\n",
    "for p in players_high_ref:\n",
    "        declare_ref.append(p.hands_hi_lo)\n",
    "print(declare_ref)"
   ]
  },
  {
   "cell_type": "code",
   "execution_count": 36,
   "metadata": {},
   "outputs": [
    {
     "data": {
      "text/plain": [
       "True"
      ]
     },
     "execution_count": 36,
     "metadata": {},
     "output_type": "execute_result"
    }
   ],
   "source": [
    "declare_ref==declare_list"
   ]
  },
  {
   "cell_type": "code",
   "execution_count": null,
   "metadata": {},
   "outputs": [],
   "source": [
    "# Save a dictionary into a pickle file.\n",
    "   2 import pickle\n",
    "   3 \n",
    "   4 favorite_color = { \"lion\": \"yellow\", \"kitty\": \"red\" }\n",
    "   5 \n",
    "   6 pickle.dump( favorite_color, open( \"save.p\", \"wb\" ) )"
   ]
  },
  {
   "cell_type": "code",
   "execution_count": null,
   "metadata": {},
   "outputs": [],
   "source": []
  },
  {
   "cell_type": "code",
   "execution_count": null,
   "metadata": {},
   "outputs": [],
   "source": []
  },
  {
   "cell_type": "code",
   "execution_count": null,
   "metadata": {},
   "outputs": [],
   "source": []
  },
  {
   "cell_type": "code",
   "execution_count": null,
   "metadata": {},
   "outputs": [],
   "source": []
  },
  {
   "cell_type": "code",
   "execution_count": null,
   "metadata": {},
   "outputs": [],
   "source": [
    "\n",
    "df=pd.DataFrame(columns=['A','B'],data=[[1,1],[2,2],[3,3],[4,4],[5,6]])\n",
    "df['A'].expanding().sum()\n",
    "cmap='Reds'\n",
    "plt.pie(df['A'],color=df['B'],cmap='Reds',labels=df['B'])\n",
    "plt.show()"
   ]
  },
  {
   "cell_type": "code",
   "execution_count": null,
   "metadata": {},
   "outputs": [],
   "source": [
    "help(plt.pie_)"
   ]
  },
  {
   "cell_type": "code",
   "execution_count": null,
   "metadata": {},
   "outputs": [],
   "source": [
    "this_game.__dict__"
   ]
  },
  {
   "cell_type": "code",
   "execution_count": null,
   "metadata": {},
   "outputs": [],
   "source": []
  },
  {
   "cell_type": "code",
   "execution_count": null,
   "metadata": {},
   "outputs": [],
   "source": []
  },
  {
   "cell_type": "code",
   "execution_count": null,
   "metadata": {},
   "outputs": [],
   "source": [
    "from io import BytesIO\n",
    "\n",
    "fig = Figure()\n",
    "ax = fig.subplots()\n",
    "ax.plot([1, 2])\n",
    "\n",
    "# Save it to a temporary buffer.\n",
    "buf = BytesIO()\n",
    "fig.savefig(buf, format=\"png\")\n"
   ]
  },
  {
   "cell_type": "code",
   "execution_count": 9,
   "metadata": {},
   "outputs": [],
   "source": [
    "fig = Figure(figsize=(5, 3), dpi=100)\n",
    "ax1=fig.add_subplot(1,1,1)\n",
    "xs=[1,2,3]\n",
    "ys=[1,2,3]\n",
    "\n",
    "ax1.bar(xs,ys)\n",
    "fig.savefig('bob.png')"
   ]
  },
  {
   "cell_type": "code",
   "execution_count": null,
   "metadata": {},
   "outputs": [],
   "source": []
  },
  {
   "cell_type": "code",
   "execution_count": 9,
   "metadata": {},
   "outputs": [
    {
     "name": "stdout",
     "output_type": "stream",
     "text": [
      "1\n",
      " c index: 1\n",
      "len: 4  e index: 3\n"
     ]
    },
    {
     "data": {
      "text/plain": [
       "True"
      ]
     },
     "execution_count": 9,
     "metadata": {},
     "output_type": "execute_result"
    }
   ],
   "source": [
    "l1=['a','b','c','d','e']\n",
    "print(l1.index('b'))\n",
    "l1.pop(l1.index('b'))\n",
    "print(f\" c index: {l1.index('c')}\")\n",
    "print(f\"len: {len(l1)}  e index: {l1.index('e')}\")\n",
    "\n",
    "'e' == l1[-1]"
   ]
  },
  {
   "cell_type": "code",
   "execution_count": 10,
   "metadata": {},
   "outputs": [
    {
     "data": {
      "text/plain": [
       "2"
      ]
     },
     "execution_count": 10,
     "metadata": {},
     "output_type": "execute_result"
    }
   ],
   "source": [
    "l2=[5,5,10,10,10,5,5]\n",
    "l2.index(10,)"
   ]
  },
  {
   "cell_type": "code",
   "execution_count": 24,
   "metadata": {},
   "outputs": [],
   "source": [
    "def rank_single_hand(hand):\n",
    "        '''accept list of 5 cards, return hand rank\n",
    "        If Ace, run calculations twice, returns a list of best hand(s).'''\n",
    "\n",
    "        # trap for folded hand\n",
    "        if hand == 'folded':\n",
    "            folded_hand = (100, f\"Folded\", ['folded'], 'folded')\n",
    "            return folded_hand, folded_hand\n",
    "\n",
    "        # Separate cards into ranks and suits\n",
    "        rank_list = [x[0] for x in hand]\n",
    "        suits_list = [x[1] for x in hand]\n",
    "\n",
    "        # Find two most common combinations, allows id of all hands including fh\n",
    "        cnt_rnk = Counter(rank_list)\n",
    "        mc_1 = cnt_rnk.most_common()[0]\n",
    "        mc_2 = cnt_rnk.most_common()[1]\n",
    "\n",
    "        # Set flush flag\n",
    "        flush_flag = False\n",
    "        if len(list(set(suits_list))) == 1:\n",
    "            flush_flag = True\n",
    "\n",
    "        # set ace_flag and hand combinations to try\n",
    "\n",
    "        hand_options = [rank_list.copy()]\n",
    "        ace_flag = False\n",
    "        if 1 in rank_list:\n",
    "            ace_flag = True\n",
    "            a_h_list = [x if x != 1 else 14 for x in rank_list]\n",
    "            a_l_list = rank_list\n",
    "            hand_options = [a_h_list, a_l_list]\n",
    "\n",
    "        print(f\"hand_options: {hand_options}\")\n",
    "        high_hands = []\n",
    "        low_hands = []\n",
    "\n",
    "        for tmp in hand_options:\n",
    "\n",
    "            # Find two most common combinations, allows id of all hands including fh\n",
    "            cnt_rnk = Counter(tmp)\n",
    "            mc_1 = cnt_rnk.most_common()[0]\n",
    "            mc_2 = cnt_rnk.most_common()[1]\n",
    "\n",
    "            hand_decision = False\n",
    "            print(f\"Flush Flag: {flush_flag}\")\n",
    "\n",
    "            if not flush_flag:\n",
    "\n",
    "                if (mc_1[1] == 2) & (mc_2[1] == 1) & (hand_decision == False):\n",
    "\n",
    "                    show = [x for x in tmp if x == mc_1[0]] + \\\n",
    "                           sorted([x for x in tmp if x != mc_1[0]], reverse=True)\n",
    "\n",
    "                    show_low = [x for x in tmp if x == mc_1[0]] + \\\n",
    "                               sorted([x for x in tmp if x != mc_1[0]])\n",
    "\n",
    "                    high_hands.append((8, f\"Pair\", show, hand))\n",
    "                    low_hands.append((2, f\"Pair\", show_low, hand))\n",
    "\n",
    "                elif (mc_1[1] == 2) & (mc_2[1] == 2) & (hand_decision == False):\n",
    "\n",
    "                    if mc_1[0] > mc_2[0]:\n",
    "                        a = mc_1[0]\n",
    "                        b = mc_2[0]\n",
    "                    else:\n",
    "                        a = mc_2[0]\n",
    "                        b = mc_1[0]\n",
    "                    show = [x for x in tmp if x == a] + \\\n",
    "                           [x for x in tmp if x == b] + \\\n",
    "                           sorted([x for x in tmp if (x != mc_1[0]) & (x != mc_2[0])],\n",
    "                                  reverse=True)\n",
    "\n",
    "                    show_low = [x for x in tmp if x == a] + \\\n",
    "                               [x for x in tmp if x == b] + \\\n",
    "                               sorted([x for x in tmp if (x != mc_1[0]) & (x != mc_2[0])])\n",
    "\n",
    "                    high_hands.append((7, f\"Two Pair\", show, hand))\n",
    "                    low_hands.append((3, f\"Two Pair\", show_low, hand))\n",
    "\n",
    "                elif (mc_1[1] == 3) & (mc_2[1] == 1) & (hand_decision == False):\n",
    "\n",
    "                    show = [x for x in tmp if x == mc_1[0]] + \\\n",
    "                           sorted([x for x in tmp if x != mc_1[0]], reverse=True)\n",
    "                    show_low = [x for x in tmp if x == mc_1[0]] + \\\n",
    "                               sorted([x for x in tmp if x != mc_1[0]])\n",
    "\n",
    "                    high_hands.append((6, f\"Three of a Kind\", show, hand))\n",
    "                    low_hands.append((4, f\"Three of a Kind\", show_low, hand))\n",
    "\n",
    "                elif (max(rank_list) - min(rank_list) == 4) & \\\n",
    "                        (len(set(rank_list)) == 5) & (hand_decision == False):\n",
    "                    # best_hands.append((5,'Straight '+str(sorted(rank_list,reverse=True))))\n",
    "                    high_hands.append((5, 'Straight', sorted(rank_list, reverse=True), hand))\n",
    "                    low_hands.append((5, 'Straight', sorted(rank_list, reverse=True), hand))\n",
    "\n",
    "                elif (mc_1[1] == 3) & (mc_2[1] == 2) & (hand_decision == False):\n",
    "\n",
    "                    show = [x for x in tmp if x == mc_1[0]] + \\\n",
    "                           sorted([x for x in tmp if x != mc_1[0]], reverse=True)\n",
    "\n",
    "                    high_hands.append((3, f\"Full House\", show, hand))\n",
    "                    low_hands.append((7, f\"Full House\", show, hand))\n",
    "\n",
    "                elif (mc_1[1] == 4) & (mc_2[1] == 1) & (hand_decision == False):\n",
    "                    show = [x for x in tmp if x == mc_1[0]] + \\\n",
    "                           sorted([x for x in tmp if x != mc_1[0]], reverse=True)\n",
    "                    high_hands.append((2, f'Four of a Kind', show, hand))\n",
    "                    low_hands.append((8, f'Four of a Kind', show, hand))\n",
    "\n",
    "                else:\n",
    "                    high_hands.append((9, 'High card', sorted(tmp, reverse=True), hand))\n",
    "                    low_hands.append((1, 'High card', sorted(tmp, reverse=True), hand))\n",
    "\n",
    "            elif flush_flag:\n",
    "                print(f\"elif Flush Flag: {flush_flag}\")\n",
    "                print(f\"tmp: {tmp}\")\n",
    "                print(f\"Max(tmp): {max(tmp)} Min(rank_list): {min(tmp)} Max-Min: {max(tmp)-min(tmp)}\")\n",
    "                print(f\"Hand_decision: {hand_decision}\")\n",
    "                \n",
    "                if (max(tmp) - min(tmp) == 4) & (len(set(tmp)) == 5) & \\\n",
    "                        (hand_decision == False):\n",
    "                    high_hands.append((1, f\"Straight Flush\", sorted(tmp, reverse=True), hand))\n",
    "                    low_hands.append((9, f\"Straight Flush\", sorted(tmp), hand))\n",
    "                else:\n",
    "                    high_hands.append((4, f\"Flush\", sorted(tmp, reverse=True), hand))\n",
    "                    low_hands.append((6, f\"Flush\", sorted(tmp, reverse=True), hand))\n",
    "            else:\n",
    "                high_hands.append('Unknown: ' + str(hand))\n",
    "                low_hands.append('Unknown: ' + str(hand))\n",
    "        return max(high_hands), min(low_hands)"
   ]
  },
  {
   "cell_type": "code",
   "execution_count": 25,
   "metadata": {},
   "outputs": [
    {
     "name": "stdout",
     "output_type": "stream",
     "text": [
      "hand_options: [[13, 12, 10, 11, 14], [13, 12, 10, 11, 1]]\n",
      "Flush Flag: True\n",
      "elif Flush Flag: True\n",
      "tmp: [13, 12, 10, 11, 14]\n",
      "Max(tmp): 14 Min(rank_list): 10\n",
      "Hand_decision: False\n",
      "Flush Flag: True\n",
      "elif Flush Flag: True\n",
      "tmp: [13, 12, 10, 11, 1]\n",
      "Max(tmp): 13 Min(rank_list): 1\n",
      "Hand_decision: False\n"
     ]
    },
    {
     "data": {
      "text/plain": [
       "((4,\n",
       "  'Flush',\n",
       "  [13, 12, 11, 10, 1],\n",
       "  [(13, 'H'), (12, 'H'), (10, 'H'), (11, 'H'), (1, 'H')]),\n",
       " (6,\n",
       "  'Flush',\n",
       "  [13, 12, 11, 10, 1],\n",
       "  [(13, 'H'), (12, 'H'), (10, 'H'), (11, 'H'), (1, 'H')]))"
      ]
     },
     "execution_count": 25,
     "metadata": {},
     "output_type": "execute_result"
    }
   ],
   "source": [
    "hand=[(2,'H'),(3,'H'),(4,'H'),(5,'H'),(1,'H')]\n",
    "hand=[(13,'H'),(12,'H'),(10,'H'),(11,'H'),(1,'H')]\n",
    "rank_single_hand(hand)"
   ]
  }
 ],
 "metadata": {
  "kernelspec": {
   "display_name": "Python 3",
   "language": "python",
   "name": "python3"
  },
  "language_info": {
   "codemirror_mode": {
    "name": "ipython",
    "version": 3
   },
   "file_extension": ".py",
   "mimetype": "text/x-python",
   "name": "python",
   "nbconvert_exporter": "python",
   "pygments_lexer": "ipython3",
   "version": "3.7.7"
  }
 },
 "nbformat": 4,
 "nbformat_minor": 4
}
